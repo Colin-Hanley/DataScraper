{
 "cells": [
  {
   "cell_type": "code",
   "execution_count": 7,
   "outputs": [
    {
     "name": "stdout",
     "output_type": "stream",
     "text": [
      "{'object': 'card', 'id': '3ec0c0fb-1a4f-45f4-85b7-346a6d3ce2c5', 'oracle_id': 'a20dd48d-d344-4db1-b0e9-a2b71c3cc9d1', 'multiverse_ids': [460928], 'mtgo_id': 71608, 'arena_id': 69452, 'tcgplayer_id': 188386, 'cardmarket_id': 372131, 'name': 'Karn, the Great Creator', 'lang': 'en', 'released_at': '2019-05-03', 'uri': 'https://api.scryfall.com/cards/3ec0c0fb-1a4f-45f4-85b7-346a6d3ce2c5', 'scryfall_uri': 'https://scryfall.com/card/war/1/karn-the-great-creator?utm_source=api', 'layout': 'normal', 'highres_image': True, 'image_status': 'highres_scan', 'image_uris': {'small': 'https://cards.scryfall.io/small/front/3/e/3ec0c0fb-1a4f-45f4-85b7-346a6d3ce2c5.jpg?1566819742', 'normal': 'https://cards.scryfall.io/normal/front/3/e/3ec0c0fb-1a4f-45f4-85b7-346a6d3ce2c5.jpg?1566819742', 'large': 'https://cards.scryfall.io/large/front/3/e/3ec0c0fb-1a4f-45f4-85b7-346a6d3ce2c5.jpg?1566819742', 'png': 'https://cards.scryfall.io/png/front/3/e/3ec0c0fb-1a4f-45f4-85b7-346a6d3ce2c5.png?1566819742', 'art_crop': 'https://cards.scryfall.io/art_crop/front/3/e/3ec0c0fb-1a4f-45f4-85b7-346a6d3ce2c5.jpg?1566819742', 'border_crop': 'https://cards.scryfall.io/border_crop/front/3/e/3ec0c0fb-1a4f-45f4-85b7-346a6d3ce2c5.jpg?1566819742'}, 'mana_cost': '{4}', 'cmc': 4.0, 'type_line': 'Legendary Planeswalker — Karn', 'oracle_text': \"Activated abilities of artifacts your opponents control can't be activated.\\n+1: Until your next turn, up to one target noncreature artifact becomes an artifact creature with power and toughness each equal to its mana value.\\n−2: You may reveal an artifact card you own from outside the game or choose a face-up artifact card you own in exile. Put that card into your hand.\", 'loyalty': '5', 'colors': [], 'color_identity': [], 'keywords': [], 'legalities': {'standard': 'not_legal', 'future': 'not_legal', 'historic': 'legal', 'gladiator': 'legal', 'pioneer': 'legal', 'explorer': 'legal', 'modern': 'legal', 'legacy': 'legal', 'pauper': 'not_legal', 'vintage': 'restricted', 'penny': 'not_legal', 'commander': 'legal', 'oathbreaker': 'legal', 'brawl': 'not_legal', 'historicbrawl': 'legal', 'alchemy': 'not_legal', 'paupercommander': 'not_legal', 'duel': 'legal', 'oldschool': 'not_legal', 'premodern': 'not_legal', 'predh': 'not_legal'}, 'games': ['arena', 'paper', 'mtgo'], 'reserved': False, 'foil': True, 'nonfoil': True, 'finishes': ['nonfoil', 'foil'], 'oversized': False, 'promo': False, 'reprint': False, 'variation': False, 'set_id': 'ee044f0b-e101-4ead-8d0e-aa510aad4277', 'set': 'war', 'set_name': 'War of the Spark', 'set_type': 'expansion', 'set_uri': 'https://api.scryfall.com/sets/ee044f0b-e101-4ead-8d0e-aa510aad4277', 'set_search_uri': 'https://api.scryfall.com/cards/search?order=set&q=e%3Awar&unique=prints', 'scryfall_set_uri': 'https://scryfall.com/sets/war?utm_source=api', 'rulings_uri': 'https://api.scryfall.com/cards/3ec0c0fb-1a4f-45f4-85b7-346a6d3ce2c5/rulings', 'prints_search_uri': 'https://api.scryfall.com/cards/search?order=released&q=oracleid%3Aa20dd48d-d344-4db1-b0e9-a2b71c3cc9d1&unique=prints', 'collector_number': '1', 'digital': False, 'rarity': 'rare', 'card_back_id': '0aeebaf5-8c7d-4636-9e82-8c27447861f7', 'artist': 'Wisnu Tan', 'artist_ids': ['f2d36cdd-a4e9-43ba-b2ad-9d514f6706d4'], 'illustration_id': '91e727f7-49ac-4159-bb23-76fd8ed60746', 'border_color': 'black', 'frame': '2015', 'security_stamp': 'oval', 'full_art': False, 'textless': False, 'booster': True, 'story_spotlight': False, 'edhrec_rank': 1208, 'preview': {'source': 'Wizards of the Coast', 'source_uri': 'https://twitter.com/wizards_magic/status/1115721050170458112', 'previewed_at': '2019-04-09'}, 'prices': {'usd': '18.70', 'usd_foil': '24.38', 'usd_etched': None, 'eur': '15.16', 'eur_foil': '31.76', 'tix': '14.59'}, 'related_uris': {'gatherer': 'https://gatherer.wizards.com/Pages/Card/Details.aspx?multiverseid=460928', 'tcgplayer_infinite_articles': 'https://infinite.tcgplayer.com/search?contentMode=article&game=magic&partner=scryfall&q=Karn%2C+the+Great+Creator&utm_campaign=affiliate&utm_medium=api&utm_source=scryfall', 'tcgplayer_infinite_decks': 'https://infinite.tcgplayer.com/search?contentMode=deck&game=magic&partner=scryfall&q=Karn%2C+the+Great+Creator&utm_campaign=affiliate&utm_medium=api&utm_source=scryfall', 'edhrec': 'https://edhrec.com/route/?cc=Karn%2C+the+Great+Creator'}, 'purchase_uris': {'tcgplayer': 'https://www.tcgplayer.com/product/188386?page=1&utm_campaign=affiliate&utm_medium=api&utm_source=scryfall', 'cardmarket': 'https://www.cardmarket.com/en/Magic/Products/Search?referrer=scryfall&searchString=Karn%2C+the+Great+Creator&utm_campaign=card_prices&utm_medium=text&utm_source=scryfall', 'cardhoarder': 'https://www.cardhoarder.com/cards/71608?affiliate_id=scryfall&ref=card-profile&utm_campaign=affiliate&utm_medium=card&utm_source=scryfall'}}\n"
     ]
    },
    {
     "data": {
      "text/plain": "'Karn, the Great Creator'"
     },
     "execution_count": 7,
     "metadata": {},
     "output_type": "execute_result"
    }
   ],
   "source": [
    "import requests\n",
    "from requests.exceptions import RequestException\n"
   ],
   "metadata": {
    "collapsed": false,
    "ExecuteTime": {
     "end_time": "2023-08-29T18:46:35.691662Z",
     "start_time": "2023-08-29T18:46:35.261704Z"
    }
   }
  },
  {
   "cell_type": "code",
   "execution_count": 69,
   "outputs": [],
   "source": [
    "class Card:\n",
    "    def __init__(self, name):\n",
    "        self.name = name\n",
    "        self.scryfall_response = None\n",
    "        self.set_base_scryfall_response()\n",
    "\n",
    "    def __repr__(self):\n",
    "        return f\"Card(name={self.name})\"\n",
    "\n",
    "    @staticmethod\n",
    "    def get_base_scryfall_url(name: str) -> str:\n",
    "        return f\"https://api.scryfall.com/cards/named?exact={name}\"\n",
    "\n",
    "    def set_base_scryfall_response(self):\n",
    "        url_to_hit = self.get_base_scryfall_url(self.name)\n",
    "        try:\n",
    "            self.scryfall_response = fetch_json(url_to_hit)\n",
    "        except Exception as e:\n",
    "            print(f\"An error occurred while fetching Scryfall response: {e}\")\n",
    "\n",
    "    def get_value_from_base_scryfall_response(self, key, sub_key=None):\n",
    "        if self.scryfall_response:\n",
    "            data = self.scryfall_response.get(key)\n",
    "            if sub_key and data:\n",
    "                return data.get(sub_key)\n",
    "            return data\n",
    "        else:\n",
    "            return None\n",
    "\n",
    "    @property\n",
    "    def dollar_min_price(self):\n",
    "        return self.get_value_from_base_scryfall_response('prices', 'usd')\n",
    "\n",
    "    @property\n",
    "    def euro_min_price(self):\n",
    "        return self.get_value_from_base_scryfall_response('prices', 'eur')\n",
    "\n",
    "    @property\n",
    "    def online_min_price(self):\n",
    "        return self.get_value_from_base_scryfall_response('prices', 'tix')\n"
   ],
   "metadata": {
    "collapsed": false,
    "ExecuteTime": {
     "end_time": "2023-08-29T19:24:46.584206Z",
     "start_time": "2023-08-29T19:24:46.579423Z"
    }
   }
  }
 ],
 "metadata": {
  "kernelspec": {
   "display_name": "Python 3",
   "language": "python",
   "name": "python3"
  },
  "language_info": {
   "codemirror_mode": {
    "name": "ipython",
    "version": 2
   },
   "file_extension": ".py",
   "mimetype": "text/x-python",
   "name": "python",
   "nbconvert_exporter": "python",
   "pygments_lexer": "ipython2",
   "version": "2.7.6"
  }
 },
 "nbformat": 4,
 "nbformat_minor": 0
}
